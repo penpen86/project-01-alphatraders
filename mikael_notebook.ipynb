{
 "cells": [
  {
   "cell_type": "markdown",
   "metadata": {},
   "source": [
    "# Mikael's World"
   ]
  },
  {
   "cell_type": "code",
   "execution_count": null,
   "metadata": {},
   "outputs": [],
   "source": [
    "artists = ['Drake', 'Kendrick', '21 Savage']\n",
    "\n",
    "for artist in range(len(artists)):\n",
    "    if artist == '21 Savage':\n",
    "        print('Want it all, I won\\'t leave a breadcrumb.')\n",
    "    if artist == 'Drake':\n",
    "        print('I\\'m a night owl, this a different mode.')\n",
    "    if artist == 'Kendrick':\n",
    "        print('Hello new world, all the boys and girls')"
   ]
  }
 ],
 "metadata": {
  "language_info": {
   "name": "python"
  }
 },
 "nbformat": 4,
 "nbformat_minor": 2
}
